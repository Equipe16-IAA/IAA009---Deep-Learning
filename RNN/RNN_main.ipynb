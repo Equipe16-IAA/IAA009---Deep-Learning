{
  "nbformat": 4,
  "nbformat_minor": 0,
  "metadata": {
    "colab": {
      "provenance": [],
      "gpuType": "T4",
      "authorship_tag": "ABX9TyMO91TQ0dNgDbUXowJoVjjJ",
      "include_colab_link": true
    },
    "kernelspec": {
      "name": "python3",
      "display_name": "Python 3"
    },
    "language_info": {
      "name": "python"
    },
    "accelerator": "GPU"
  },
  "cells": [
    {
      "cell_type": "markdown",
      "metadata": {
        "id": "view-in-github",
        "colab_type": "text"
      },
      "source": [
        "<a href=\"https://colab.research.google.com/github/Equipe16-IAA/IAA009---Deep-Learning/blob/main/RNN/RNN_main.ipynb\" target=\"_parent\"><img src=\"https://colab.research.google.com/assets/colab-badge.svg\" alt=\"Open In Colab\"/></a>"
      ]
    },
    {
      "cell_type": "markdown",
      "source": [
        "##Importação da biblioteca"
      ],
      "metadata": {
        "id": "2IRX2Ew1olzb"
      }
    },
    {
      "cell_type": "code",
      "execution_count": 1,
      "metadata": {
        "id": "ZKwxNz_6oABG"
      },
      "outputs": [],
      "source": [
        "# Importação das Bibliotecas\n",
        "import tensorflow as tf\n",
        "import numpy as np\n",
        "import matplotlib.pyplot as plt\n",
        "import pandas as pd\n",
        "from sklearn.model_selection import train_test_split\n",
        "from tensorflow.keras.layers import Input, Embedding, LSTM, Dense\n",
        "from tensorflow.keras.layers import GlobalMaxPooling1D\n",
        "from tensorflow.keras.models import Model\n",
        "from tensorflow.keras.preprocessing.sequence import pad_sequences\n",
        "from tensorflow.keras.preprocessing.text import Tokenizer"
      ]
    },
    {
      "cell_type": "markdown",
      "source": [
        "##Carga da base"
      ],
      "metadata": {
        "id": "XjsWt1KFpAd6"
      }
    },
    {
      "cell_type": "code",
      "source": [
        "# carrega e arruma a base\n",
        "!wget http://www.razer.net.br/datasets/spam.csv\n",
        "df = pd.read_csv(\"spam.csv\", encoding=\"ISO-8859-1\")\n",
        "df.head()\n",
        "df = df.drop([\"Unnamed: 2\", \"Unnamed: 3\", \"Unnamed: 4\"], axis=1)\n",
        "df.columns = [\"labels\", \"data\"]\n",
        "df[\"b_labels\"] = df[\"labels\"].map({ \"ham\": 0, \"spam\": 1})\n",
        "y = df[\"b_labels\"].values"
      ],
      "metadata": {
        "colab": {
          "base_uri": "https://localhost:8080/"
        },
        "id": "zcDtM75PpCnR",
        "outputId": "8dbe0787-1889-4077-8ed9-db49d4c61619"
      },
      "execution_count": 2,
      "outputs": [
        {
          "output_type": "stream",
          "name": "stdout",
          "text": [
            "--2024-07-27 14:42:04--  http://www.razer.net.br/datasets/spam.csv\n",
            "Resolving www.razer.net.br (www.razer.net.br)... 178.128.150.229\n",
            "Connecting to www.razer.net.br (www.razer.net.br)|178.128.150.229|:80... connected.\n",
            "HTTP request sent, awaiting response... 200 OK\n",
            "Length: 503663 (492K) [text/csv]\n",
            "Saving to: ‘spam.csv’\n",
            "\n",
            "spam.csv            100%[===================>] 491.86K  1.24MB/s    in 0.4s    \n",
            "\n",
            "2024-07-27 14:42:05 (1.24 MB/s) - ‘spam.csv’ saved [503663/503663]\n",
            "\n"
          ]
        }
      ]
    },
    {
      "cell_type": "markdown",
      "source": [
        "##Separação de treino e teste"
      ],
      "metadata": {
        "id": "RF9FaNG0pFzI"
      }
    },
    {
      "cell_type": "code",
      "source": [
        "# Separa a base em treino e teste\n",
        "x_train, x_test, y_train, y_test = train_test_split(df[\"data\"], y,\n",
        "test_size=0.33)"
      ],
      "metadata": {
        "id": "dHdNuDbzpMR9"
      },
      "execution_count": 3,
      "outputs": []
    },
    {
      "cell_type": "markdown",
      "source": [
        "##Tokenização dos dados"
      ],
      "metadata": {
        "id": "JbtNGVlGpQ31"
      }
    },
    {
      "cell_type": "code",
      "source": [
        "# Número máximo de palavras para considerar\n",
        "# São consideradas as mais frequentes, as demais são\n",
        "# ignoradas\n",
        "num_words = 20000\n",
        "tokenizer = Tokenizer(num_words=num_words)\n",
        "tokenizer.fit_on_texts(x_train)\n",
        "sequences_train = tokenizer.texts_to_sequences(x_train)\n",
        "sequences_test = tokenizer.texts_to_sequences(x_test)\n",
        "word2index = tokenizer.word_index\n",
        "V = len(word2index)\n",
        "print(\"%s tokens\" % V)"
      ],
      "metadata": {
        "colab": {
          "base_uri": "https://localhost:8080/"
        },
        "id": "MPlzoKPbpTib",
        "outputId": "14f40945-048c-412f-f469-b8c7f3268350"
      },
      "execution_count": 4,
      "outputs": [
        {
          "output_type": "stream",
          "name": "stdout",
          "text": [
            "7122 tokens\n"
          ]
        }
      ]
    },
    {
      "cell_type": "markdown",
      "source": [
        "##Acertando o tamanho (Padding)"
      ],
      "metadata": {
        "id": "BfmmCE54pZGy"
      }
    },
    {
      "cell_type": "code",
      "source": [
        "# Acerta o tamanho das sequências (padding)\n",
        "data_train = pad_sequences(sequences_train) # usa o tamanho da maior seq.\n",
        "T = data_train.shape[1] # tamanho da sequência\n",
        "data_test = pad_sequences(sequences_test, maxlen=T)\n",
        "print(\"data_train.shape: \", data_train.shape)\n",
        "print(\"data_test.shape: \", data_test.shape)"
      ],
      "metadata": {
        "colab": {
          "base_uri": "https://localhost:8080/"
        },
        "id": "3SMJ2ksKpcBY",
        "outputId": "4ddd398d-2db5-46bc-adc2-4aa1de546e4a"
      },
      "execution_count": 5,
      "outputs": [
        {
          "output_type": "stream",
          "name": "stdout",
          "text": [
            "data_train.shape:  (3733, 189)\n",
            "data_test.shape:  (1839, 189)\n"
          ]
        }
      ]
    },
    {
      "cell_type": "markdown",
      "source": [
        "##Definição do modelo da RNN"
      ],
      "metadata": {
        "id": "g_ZQc-xXpg2G"
      }
    },
    {
      "cell_type": "code",
      "source": [
        "# Define o modelo\n",
        "D = 20 # tamanho do embedding, hiperparâmetro que pode ser escolhido\n",
        "M = 5 # tamanho do hidden state, quantidade de unidades LSTM\n",
        "i = Input(shape=(T,)) # Entra uma frase inteira\n",
        "x = Embedding(V+1, D)(i)\n",
        "x = LSTM(M)(x)\n",
        "x = Dense(1, activation=\"sigmoid\")(x) # Sigmoide pois só tem 2 valores\n",
        "model = Model(i, x)"
      ],
      "metadata": {
        "id": "66ukTPfopmHr"
      },
      "execution_count": 6,
      "outputs": []
    },
    {
      "cell_type": "markdown",
      "source": [
        "##Visualização do modelo criado"
      ],
      "metadata": {
        "id": "un2QDUPjpq95"
      }
    },
    {
      "cell_type": "code",
      "source": [
        "model.summary()"
      ],
      "metadata": {
        "colab": {
          "base_uri": "https://localhost:8080/"
        },
        "id": "tr9I7PqCpuBz",
        "outputId": "1251fb21-1b6b-44aa-f27f-b0bdd47c7975"
      },
      "execution_count": 7,
      "outputs": [
        {
          "output_type": "stream",
          "name": "stdout",
          "text": [
            "Model: \"model\"\n",
            "_________________________________________________________________\n",
            " Layer (type)                Output Shape              Param #   \n",
            "=================================================================\n",
            " input_1 (InputLayer)        [(None, 189)]             0         \n",
            "                                                                 \n",
            " embedding (Embedding)       (None, 189, 20)           142460    \n",
            "                                                                 \n",
            " lstm (LSTM)                 (None, 5)                 520       \n",
            "                                                                 \n",
            " dense (Dense)               (None, 1)                 6         \n",
            "                                                                 \n",
            "=================================================================\n",
            "Total params: 142986 (558.54 KB)\n",
            "Trainable params: 142986 (558.54 KB)\n",
            "Non-trainable params: 0 (0.00 Byte)\n",
            "_________________________________________________________________\n"
          ]
        }
      ]
    },
    {
      "cell_type": "markdown",
      "source": [
        "##Compilar e Treinar o modelo"
      ],
      "metadata": {
        "id": "V9ZHKpEtpxWN"
      }
    },
    {
      "cell_type": "code",
      "source": [
        "# Compila e treina o modelo\n",
        "model.compile(loss=\"binary_crossentropy\", optimizer=\"adam\",\n",
        "metrics=[\"accuracy\"])\n",
        "epochs = 5\n",
        "r = model.fit(data_train, y_train, epochs=epochs, validation_data=(data_test,\n",
        "y_test))"
      ],
      "metadata": {
        "colab": {
          "base_uri": "https://localhost:8080/"
        },
        "id": "hLzFEa7ep4aD",
        "outputId": "8566d46f-ce79-473f-a139-c6697b21690b"
      },
      "execution_count": 8,
      "outputs": [
        {
          "output_type": "stream",
          "name": "stdout",
          "text": [
            "Epoch 1/5\n",
            "117/117 [==============================] - 20s 142ms/step - loss: 0.5134 - accuracy: 0.8495 - val_loss: 0.3332 - val_accuracy: 0.8651\n",
            "Epoch 2/5\n",
            "117/117 [==============================] - 6s 50ms/step - loss: 0.2217 - accuracy: 0.9445 - val_loss: 0.1696 - val_accuracy: 0.9723\n",
            "Epoch 3/5\n",
            "117/117 [==============================] - 6s 49ms/step - loss: 0.1309 - accuracy: 0.9863 - val_loss: 0.1243 - val_accuracy: 0.9821\n",
            "Epoch 4/5\n",
            "117/117 [==============================] - 3s 28ms/step - loss: 0.0908 - accuracy: 0.9933 - val_loss: 0.0993 - val_accuracy: 0.9853\n",
            "Epoch 5/5\n",
            "117/117 [==============================] - 3s 24ms/step - loss: 0.0652 - accuracy: 0.9965 - val_loss: 0.0809 - val_accuracy: 0.9869\n"
          ]
        }
      ]
    },
    {
      "cell_type": "markdown",
      "source": [
        "##Função de perda e acurácia"
      ],
      "metadata": {
        "id": "nd-VM751qAgQ"
      }
    },
    {
      "cell_type": "code",
      "source": [
        "# Plota função de perda e acurácia\n",
        "plt.plot(r.history[\"loss\"], label=\"loss\")\n",
        "plt.plot(r.history[\"val_loss\"], label=\"val_loss\")\n",
        "plt.xlabel(\"Épocas\")\n",
        "plt.ylabel(\"loss\")\n",
        "plt.xticks(np.arange(0, epochs, step=1), labels=range(1, epochs+1))\n",
        "plt.legend()\n",
        "plt.show()\n",
        "plt.plot(r.history[\"accuracy\"], label=\"accuracy\")\n",
        "plt.plot(r.history[\"val_accuracy\"], label=\"val_accuracy\")\n",
        "plt.xlabel(\"Épocas\")\n",
        "plt.ylabel(\"Acurácia\")\n",
        "plt.xticks(np.arange(0, epochs, step=1), labels=range(1, epochs+1))\n",
        "plt.legend()\n",
        "plt.show()"
      ],
      "metadata": {
        "colab": {
          "base_uri": "https://localhost:8080/",
          "height": 885
        },
        "id": "pMxH2AocqFUj",
        "outputId": "a81fcf3d-06cc-4276-fd46-5f651bb1222b"
      },
      "execution_count": 9,
      "outputs": [
        {
          "output_type": "display_data",
          "data": {
            "text/plain": [
              "<Figure size 640x480 with 1 Axes>"
            ],
            "image/png": "[encoded data removed]"
          },
          "metadata": {}
        },
        {
          "output_type": "display_data",
          "data": {
            "text/plain": [
              "<Figure size 640x480 with 1 Axes>"
            ],
            "image/png": "[encoded data removed]"
          },
          "metadata": {}
        }
      ]
    },
    {
      "cell_type": "markdown",
      "source": [
        "##Predição de um novo texto"
      ],
      "metadata": {
        "id": "AL-XWNiFqGvm"
      }
    },
    {
      "cell_type": "code",
      "source": [
        "# Efetua a predição de um texto novo\n",
        "#texto = \"Hi, my name is Razer and want to tell you something.\"\n",
        "texto = \"Is your car dirty? Discover our new product. Free for all. Click the link.\"\n",
        "seq_texto = tokenizer.texts_to_sequences([texto]) # Tokeniza\n",
        "data_texto = pad_sequences(seq_texto, maxlen=T) # Padding\n",
        "pred = model.predict(data_texto) # Predição\n",
        "print(pred)\n",
        "print (\"SPAM\" if pred >= 0.5 else \"OK\")"
      ],
      "metadata": {
        "colab": {
          "base_uri": "https://localhost:8080/"
        },
        "id": "YFWCjf2dqQBA",
        "outputId": "e3d28230-b450-4112-8a0a-73cb97632d0a"
      },
      "execution_count": 10,
      "outputs": [
        {
          "output_type": "stream",
          "name": "stdout",
          "text": [
            "1/1 [==============================] - 1s 548ms/step\n",
            "[[0.6523792]]\n",
            "SPAM\n"
          ]
        }
      ]
    }
  ]
}